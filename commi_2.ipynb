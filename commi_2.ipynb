{
 "cells": [
  {
   "cell_type": "code",
   "execution_count": 1,
   "metadata": {},
   "outputs": [
    {
     "data": {
      "text/plain": [
       "<Figure size 640x480 with 1 Axes>"
      ]
     },
     "metadata": {},
     "output_type": "display_data"
    },
    {
     "data": {
      "text/plain": [
       "<Figure size 640x480 with 1 Axes>"
      ]
     },
     "metadata": {},
     "output_type": "display_data"
    }
   ],
   "source": [
    "import matplotlib.pyplot as plt\n",
    "import numpy as np\n",
    "from numpy import exp,sqrt\n",
    "n=10;m=100;way=[];a=0\n",
    "X=np.random.uniform(a,m,n)\n",
    "Y=np.random.uniform(a,m,n)\n",
    "# X=[10, 10, 100,100 ,30, 20, 20, 50, 50, 85, 85, 75, 35, 25, 30, 47, 50]\n",
    "# Y=[5, 85, 0,90,50, 55,50,75 ,25,50,20,80,25,70,10,50,100]\n",
    "n=len(X)\n",
    "RS=[];RW=[];RIB=[]\n",
    "s=[]\n",
    "for ib in np.arange(0,n,1):\n",
    "         M = np.zeros([n,n])\n",
    "         for i in np.arange(0,n,1):\n",
    "                  for j in np.arange(0,n,1):\n",
    "                           if i!=j:\n",
    "                                    M[i,j]=sqrt((X[i]-X[j])**2+(Y[i]-Y[j])**2)\n",
    "                           else:\n",
    "                                    M[i,j]=float('inf')\n",
    "         way=[]\n",
    "         way.append(ib)\n",
    "         for i in np.arange(1,n,1):\n",
    "                  s=[]\n",
    "                  for j in np.arange(0,n,1):                  \n",
    "                           s.append(M[way[i-1],j])\n",
    "                  way.append(s.index(min(s)))\n",
    "                  for j in np.arange(0,i,1):\n",
    "                           M[way[i],way[j]]=float('inf')\n",
    "                           M[way[i],way[j]]=float('inf')         \n",
    "         S=sum([sqrt((X[way[i]]-X[way[i+1]])**2+(Y[way[i]]-Y[way[i+1]])**2) for i in np.arange(0,n-1,1)])+ sqrt((X[way[n-1]]-X[way[0]])**2+(Y[way[n-1]]-Y[way[0]])**2)                      \n",
    "         RS.append(S)\n",
    "         RW.append(way)\n",
    "         RIB.append(ib)\n",
    "S=min(RS)\n",
    "way=RW[RS.index(min(RS))]\n",
    "ib=RIB[RS.index(min(RS))]       \n",
    "X1=[X[way[i]] for i in np.arange(0,n,1)]\n",
    "Y1=[Y[way[i]] for i in np.arange(0,n,1)]\n",
    "plt.title('Общий путь-%s.Номер города-%i.Всего городов -%i.\\n Координаты X,Y заданы'%(round(S,3),ib,n), size=14)\n",
    "plt.plot(X1, Y1, color='r', linestyle=' ', marker='o')\n",
    "plt.plot(X1, Y1, color='b', linewidth=1)   \n",
    "X2=[X[way[n-1]],X[way[0]]]\n",
    "Y2=[Y[way[n-1]],Y[way[0]]]\n",
    "plt.plot(X2, Y2, color='g', linewidth=2,  linestyle='-', label='Путь от  последнего \\n к первому городу')\n",
    "plt.legend(loc='best')\n",
    "plt.grid(True)\n",
    "plt.show()  \n",
    "Z=sqrt((X[way[n-1]]-X[way[0]])**2+(Y[way[n-1]]-Y[way[0]])**2)\n",
    "Y3=[sqrt((X[way[i+1]]-X[way[i]])**2+(Y[way[i+1]]-Y[way[i]])**2) for i in np.arange(0,n-1,1)]\n",
    "X3=[i for i in np.arange(0,n-1,1)]\n",
    "plt.title('Пути от города к городу')\n",
    "plt.plot(X3, Y3, color='b', linestyle=' ', marker='o')\n",
    "plt.plot(X3, Y3, color='r',  linewidth=1,  linestyle='-', label='Без учёта замыкающего пути - %s'%str(round(Z,3)))\n",
    "plt.legend(loc='best')\n",
    "plt.grid(True)\n",
    "plt.show ()         "
   ]
  },
  {
   "cell_type": "code",
   "execution_count": null,
   "metadata": {},
   "outputs": [],
   "source": []
  },
  {
   "cell_type": "code",
   "execution_count": null,
   "metadata": {},
   "outputs": [],
   "source": []
  }
 ],
 "metadata": {
  "kernelspec": {
   "display_name": "Python 3",
   "language": "python",
   "name": "python3"
  },
  "language_info": {
   "codemirror_mode": {
    "name": "ipython",
    "version": 3
   },
   "file_extension": ".py",
   "mimetype": "text/x-python",
   "name": "python",
   "nbconvert_exporter": "python",
   "pygments_lexer": "ipython3",
   "version": "3.7.4"
  }
 },
 "nbformat": 4,
 "nbformat_minor": 2
}
